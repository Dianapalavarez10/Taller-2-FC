{
  "nbformat": 4,
  "nbformat_minor": 0,
  "metadata": {
    "colab": {
      "provenance": []
    },
    "kernelspec": {
      "name": "python3",
      "display_name": "Python 3"
    },
    "language_info": {
      "name": "python"
    }
  },
  "cells": [
    {
      "cell_type": "markdown",
      "source": [
        "\n",
        "\n",
        "*   Yully Stefania Cadena \n",
        "*   Diana Marcela Peña\n",
        "\n"
      ],
      "metadata": {
        "id": "ECTIE4nQc3-1"
      }
    },
    {
      "cell_type": "code",
      "execution_count": null,
      "metadata": {
        "id": "5Kyv-Xf7OPSP"
      },
      "outputs": [],
      "source": [
        "import numpy as np\n",
        "import pandas as pd\n",
        "import matplotlib.pyplot as plt\n",
        "from scipy.optimize import minimize\n",
        "from scipy.optimize import linprog\n",
        "import numpy as array\n",
        "import numpy as np\n",
        "import cvxpy as cp\n"
      ]
    },
    {
      "cell_type": "markdown",
      "source": [
        "Punto 1\n"
      ],
      "metadata": {
        "id": "edPA4ZTsOTIE"
      }
    },
    {
      "cell_type": "code",
      "source": [],
      "metadata": {
        "id": "oMuuBx0JIjWr"
      },
      "execution_count": null,
      "outputs": []
    },
    {
      "cell_type": "code",
      "source": [
        "#Función objetivo\n",
        "c_1 = [-3, -5]\n",
        "\n",
        "# Restricciones de desigualdad\n",
        "A_ub = [[1, 1], [2, 4], [1, 2]]\n",
        "b_ub = [500, 1000, 2000]\n",
        "\n",
        "\n",
        "bounds = [(100, None), \n",
        "        (150, None)]\n",
        "\n",
        "\n",
        "r_1 = linprog(c_1, A_ub=A_ub, b_ub=b_ub, bounds=bounds)\n",
        "r_1"
      ],
      "metadata": {
        "colab": {
          "base_uri": "https://localhost:8080/"
        },
        "id": "J_aH7zm6OV5e",
        "outputId": "5dc20875-e540-4613-83f5-edc0a99ab361"
      },
      "execution_count": null,
      "outputs": [
        {
          "output_type": "execute_result",
          "data": {
            "text/plain": [
              "        message: Optimization terminated successfully. (HiGHS Status 7: Optimal)\n",
              "        success: True\n",
              "         status: 0\n",
              "            fun: -1350.0\n",
              "              x: [ 2.000e+02  1.500e+02]\n",
              "            nit: 0\n",
              "          lower:  residual: [ 1.000e+02  0.000e+00]\n",
              "                 marginals: [ 0.000e+00  1.000e+00]\n",
              "          upper:  residual: [       inf        inf]\n",
              "                 marginals: [ 0.000e+00  0.000e+00]\n",
              "          eqlin:  residual: []\n",
              "                 marginals: []\n",
              "        ineqlin:  residual: [ 1.500e+02  0.000e+00  1.500e+03]\n",
              "                 marginals: [-0.000e+00 -1.500e+00 -0.000e+00]\n",
              " mip_node_count: 0\n",
              " mip_dual_bound: 0.0\n",
              "        mip_gap: 0.0"
            ]
          },
          "metadata": {},
          "execution_count": 44
        }
      ]
    },
    {
      "cell_type": "markdown",
      "source": [
        "Punto 2"
      ],
      "metadata": {
        "id": "-X1HqpibOg8w"
      }
    },
    {
      "cell_type": "code",
      "source": [
        "c_2 = np.array ([0.10, 0.15, 0.16, 0.08])\n",
        "\n",
        "a_1= np.array ([[0.5, 0.3, 0.25, 0.6],\n",
        "                [0.3, 0.1, 0.4, 0.2],\n",
        "                [0.2, 0.6, 0.35, 0.2]])\n",
        "\n",
        "\n",
        "a_2 = np.array([[1, 1, 1, 1]])\n",
        "\n",
        "b_1 = np.array([35,30,15])\n",
        "b_2=np.array([100])\n",
        "\n",
        "r_1  = linprog(-c_2, A_ub=-a_1, b_ub=-b_1, A_eq=-a_2, b_eq=-b_2, method='revised simplex')\n",
        "r_1\n"
      ],
      "metadata": {
        "colab": {
          "base_uri": "https://localhost:8080/"
        },
        "id": "Uo1UXZlxOgsH",
        "outputId": "280b839a-f144-4c22-f08a-6be6a7bd29bc"
      },
      "execution_count": null,
      "outputs": [
        {
          "output_type": "stream",
          "name": "stderr",
          "text": [
            "<ipython-input-51-b9e3090e2671>:13: DeprecationWarning: `method='revised simplex'` is deprecated and will be removed in SciPy 1.11.0. Please use one of the HiGHS solvers (e.g. `method='highs'`) in new code.\n",
            "  r_1  = linprog(-c_2, A_ub=-a_1, b_ub=-b_1, A_eq=-a_2, b_eq=-b_2, method='revised simplex')\n"
          ]
        },
        {
          "output_type": "execute_result",
          "data": {
            "text/plain": [
              " message: Optimization terminated successfully.\n",
              " success: True\n",
              "  status: 0\n",
              "     fun: -13.736842105263158\n",
              "       x: [ 0.000e+00  1.579e+01  5.789e+01  2.632e+01]\n",
              "     nit: 7"
            ]
          },
          "metadata": {},
          "execution_count": 51
        }
      ]
    },
    {
      "cell_type": "code",
      "source": [
        "pd.DataFrame(r_1.x)"
      ],
      "metadata": {
        "colab": {
          "base_uri": "https://localhost:8080/",
          "height": 174
        },
        "id": "Zcf8mbGZHSOy",
        "outputId": "5fcd9c26-01e8-4fd3-caa6-46f64120da08"
      },
      "execution_count": null,
      "outputs": [
        {
          "output_type": "execute_result",
          "data": {
            "text/plain": [
              "           0\n",
              "0   0.000000\n",
              "1  15.789474\n",
              "2  57.894737\n",
              "3  26.315789"
            ],
            "text/html": [
              "\n",
              "  <div id=\"df-0af71a2b-eed3-48ff-8c43-1ccbb16331a8\">\n",
              "    <div class=\"colab-df-container\">\n",
              "      <div>\n",
              "<style scoped>\n",
              "    .dataframe tbody tr th:only-of-type {\n",
              "        vertical-align: middle;\n",
              "    }\n",
              "\n",
              "    .dataframe tbody tr th {\n",
              "        vertical-align: top;\n",
              "    }\n",
              "\n",
              "    .dataframe thead th {\n",
              "        text-align: right;\n",
              "    }\n",
              "</style>\n",
              "<table border=\"1\" class=\"dataframe\">\n",
              "  <thead>\n",
              "    <tr style=\"text-align: right;\">\n",
              "      <th></th>\n",
              "      <th>0</th>\n",
              "    </tr>\n",
              "  </thead>\n",
              "  <tbody>\n",
              "    <tr>\n",
              "      <th>0</th>\n",
              "      <td>0.000000</td>\n",
              "    </tr>\n",
              "    <tr>\n",
              "      <th>1</th>\n",
              "      <td>15.789474</td>\n",
              "    </tr>\n",
              "    <tr>\n",
              "      <th>2</th>\n",
              "      <td>57.894737</td>\n",
              "    </tr>\n",
              "    <tr>\n",
              "      <th>3</th>\n",
              "      <td>26.315789</td>\n",
              "    </tr>\n",
              "  </tbody>\n",
              "</table>\n",
              "</div>\n",
              "      <button class=\"colab-df-convert\" onclick=\"convertToInteractive('df-0af71a2b-eed3-48ff-8c43-1ccbb16331a8')\"\n",
              "              title=\"Convert this dataframe to an interactive table.\"\n",
              "              style=\"display:none;\">\n",
              "        \n",
              "  <svg xmlns=\"http://www.w3.org/2000/svg\" height=\"24px\"viewBox=\"0 0 24 24\"\n",
              "       width=\"24px\">\n",
              "    <path d=\"M0 0h24v24H0V0z\" fill=\"none\"/>\n",
              "    <path d=\"M18.56 5.44l.94 2.06.94-2.06 2.06-.94-2.06-.94-.94-2.06-.94 2.06-2.06.94zm-11 1L8.5 8.5l.94-2.06 2.06-.94-2.06-.94L8.5 2.5l-.94 2.06-2.06.94zm10 10l.94 2.06.94-2.06 2.06-.94-2.06-.94-.94-2.06-.94 2.06-2.06.94z\"/><path d=\"M17.41 7.96l-1.37-1.37c-.4-.4-.92-.59-1.43-.59-.52 0-1.04.2-1.43.59L10.3 9.45l-7.72 7.72c-.78.78-.78 2.05 0 2.83L4 21.41c.39.39.9.59 1.41.59.51 0 1.02-.2 1.41-.59l7.78-7.78 2.81-2.81c.8-.78.8-2.07 0-2.86zM5.41 20L4 18.59l7.72-7.72 1.47 1.35L5.41 20z\"/>\n",
              "  </svg>\n",
              "      </button>\n",
              "      \n",
              "  <style>\n",
              "    .colab-df-container {\n",
              "      display:flex;\n",
              "      flex-wrap:wrap;\n",
              "      gap: 12px;\n",
              "    }\n",
              "\n",
              "    .colab-df-convert {\n",
              "      background-color: #E8F0FE;\n",
              "      border: none;\n",
              "      border-radius: 50%;\n",
              "      cursor: pointer;\n",
              "      display: none;\n",
              "      fill: #1967D2;\n",
              "      height: 32px;\n",
              "      padding: 0 0 0 0;\n",
              "      width: 32px;\n",
              "    }\n",
              "\n",
              "    .colab-df-convert:hover {\n",
              "      background-color: #E2EBFA;\n",
              "      box-shadow: 0px 1px 2px rgba(60, 64, 67, 0.3), 0px 1px 3px 1px rgba(60, 64, 67, 0.15);\n",
              "      fill: #174EA6;\n",
              "    }\n",
              "\n",
              "    [theme=dark] .colab-df-convert {\n",
              "      background-color: #3B4455;\n",
              "      fill: #D2E3FC;\n",
              "    }\n",
              "\n",
              "    [theme=dark] .colab-df-convert:hover {\n",
              "      background-color: #434B5C;\n",
              "      box-shadow: 0px 1px 3px 1px rgba(0, 0, 0, 0.15);\n",
              "      filter: drop-shadow(0px 1px 2px rgba(0, 0, 0, 0.3));\n",
              "      fill: #FFFFFF;\n",
              "    }\n",
              "  </style>\n",
              "\n",
              "      <script>\n",
              "        const buttonEl =\n",
              "          document.querySelector('#df-0af71a2b-eed3-48ff-8c43-1ccbb16331a8 button.colab-df-convert');\n",
              "        buttonEl.style.display =\n",
              "          google.colab.kernel.accessAllowed ? 'block' : 'none';\n",
              "\n",
              "        async function convertToInteractive(key) {\n",
              "          const element = document.querySelector('#df-0af71a2b-eed3-48ff-8c43-1ccbb16331a8');\n",
              "          const dataTable =\n",
              "            await google.colab.kernel.invokeFunction('convertToInteractive',\n",
              "                                                     [key], {});\n",
              "          if (!dataTable) return;\n",
              "\n",
              "          const docLinkHtml = 'Like what you see? Visit the ' +\n",
              "            '<a target=\"_blank\" href=https://colab.research.google.com/notebooks/data_table.ipynb>data table notebook</a>'\n",
              "            + ' to learn more about interactive tables.';\n",
              "          element.innerHTML = '';\n",
              "          dataTable['output_type'] = 'display_data';\n",
              "          await google.colab.output.renderOutput(dataTable, element);\n",
              "          const docLink = document.createElement('div');\n",
              "          docLink.innerHTML = docLinkHtml;\n",
              "          element.appendChild(docLink);\n",
              "        }\n",
              "      </script>\n",
              "    </div>\n",
              "  </div>\n",
              "  "
            ]
          },
          "metadata": {},
          "execution_count": 54
        }
      ]
    },
    {
      "cell_type": "markdown",
      "source": [
        "Punto 3 "
      ],
      "metadata": {
        "id": "WGOqDCFsQv1A"
      }
    },
    {
      "cell_type": "code",
      "source": [
        "c_3 = np.array([0,0,0,0,0,0,0,0,0,0,0,0,0,1])\n",
        "\n",
        "# Restricciones de desigualdad\n",
        "\n",
        "A_3 = np.array([[1,0,0,0,0,1,0,0,-1,0,0,0,0,0],\n",
        "               [-1.01,1,0,0,0,0,1,0,1.003,-1,0,0,0,0],\n",
        "               [0,-1.01,1,0,0,0,0,1,0,1.003,-1,0,0,0],\n",
        "               [0,0,-1.01,1,0,-1.02,0,0,0,0,1.003,-1,0,0],\n",
        "               [0,0,0,-1.01,1,0,-1.02,0,0,0,0,1.003,-1,0],\n",
        "               [0,0,0,0,-1.01,0,0,-1.02,0,0,0,0,1.003,-1]])\n",
        "\n",
        "B_3= np.array([150,100,-200,200,-50,-300])\n",
        "\n",
        "\n",
        "r_3= linprog(-c_3, A_eq=A_3, b_eq=B_3,method='simplex')\n",
        "print(round(pd.DataFrame(r_3.x),2))\n"
      ],
      "metadata": {
        "id": "Vo_2cggySaMO",
        "colab": {
          "base_uri": "https://localhost:8080/"
        },
        "outputId": "75117220-4b01-4ead-954f-a59c4fc78437"
      },
      "execution_count": null,
      "outputs": [
        {
          "output_type": "stream",
          "name": "stdout",
          "text": [
            "         0\n",
            "0     0.00\n",
            "1    50.98\n",
            "2     0.00\n",
            "3     0.00\n",
            "4     0.00\n",
            "5   150.00\n",
            "6    49.02\n",
            "7   203.43\n",
            "8     0.00\n",
            "9     0.00\n",
            "10  351.94\n",
            "11    0.00\n",
            "12    0.00\n",
            "13   92.50\n"
          ]
        },
        {
          "output_type": "stream",
          "name": "stderr",
          "text": [
            "<ipython-input-49-551860d2a9cd>:15: DeprecationWarning: `method='simplex'` is deprecated and will be removed in SciPy 1.11.0. Please use one of the HiGHS solvers (e.g. `method='highs'`) in new code.\n",
            "  r_3= linprog(-c_3, A_eq=A_3, b_eq=B_3,method='simplex')\n"
          ]
        }
      ]
    },
    {
      "cell_type": "markdown",
      "source": [
        "Punto 4"
      ],
      "metadata": {
        "id": "8en0OJe7TAEP"
      }
    },
    {
      "cell_type": "code",
      "source": [
        "c_4= np.array([0,0,0,0,0,0,0,1])\n",
        "\n",
        "a_4= (1+0.0001)**7\n",
        "\n",
        "A_4 = np.array([[1,0,0,0,-1,0,0,0],\n",
        "                [0,1,0,0,a_4,-1,0,0],\n",
        "                [0,0,1,0,0,a_4,-1,0],\n",
        "                [0,0,0,1,0,0,a_4,-1,]])\n",
        "\n",
        "b_4 = np.array([[150,-100,-50,200]])\n",
        "r_4 = linprog(-c_4,A_ub=A_4, b_ub= -b_4,method='simplex')\n",
        "r_4\n"
      ],
      "metadata": {
        "id": "lrz3Gqk9S7Qv",
        "colab": {
          "base_uri": "https://localhost:8080/"
        },
        "outputId": "42633261-d778-47bb-f890-86134307f285"
      },
      "execution_count": null,
      "outputs": [
        {
          "output_type": "stream",
          "name": "stderr",
          "text": [
            "<ipython-input-7-548801ed042b>:11: DeprecationWarning: `method='simplex'` is deprecated and will be removed in SciPy 1.11.0. Please use one of the HiGHS solvers (e.g. `method='highs'`) in new code.\n",
            "  r_4 = linprog(-c_4,A_ub=A_4, b_ub= -b_4,method='simplex')\n"
          ]
        },
        {
          "output_type": "execute_result",
          "data": {
            "text/plain": [
              " message: Optimization failed. The problem appears to be unbounded.\n",
              " success: False\n",
              "  status: 3\n",
              "     fun: -200.14021366142958\n",
              "       x: [ 0.000e+00  0.000e+00  0.000e+00  0.000e+00  1.500e+02\n",
              "            5.011e+01  1.401e-01  2.001e+02]\n",
              "     nit: 4"
            ]
          },
          "metadata": {},
          "execution_count": 7
        }
      ]
    },
    {
      "cell_type": "code",
      "source": [
        "pd.DataFrame(r_4.x)"
      ],
      "metadata": {
        "colab": {
          "base_uri": "https://localhost:8080/",
          "height": 300
        },
        "id": "FQVAS48-H-IN",
        "outputId": "4ecf7851-5ea3-4a6d-f83a-238b33d4c49a"
      },
      "execution_count": null,
      "outputs": [
        {
          "output_type": "execute_result",
          "data": {
            "text/plain": [
              "            0\n",
              "0    0.000000\n",
              "1    0.000000\n",
              "2    0.000000\n",
              "3    0.000000\n",
              "4  150.000000\n",
              "5   50.105032\n",
              "6    0.140116\n",
              "7  200.140214"
            ],
            "text/html": [
              "\n",
              "  <div id=\"df-2341d76c-e646-449f-8c73-52f0af397353\">\n",
              "    <div class=\"colab-df-container\">\n",
              "      <div>\n",
              "<style scoped>\n",
              "    .dataframe tbody tr th:only-of-type {\n",
              "        vertical-align: middle;\n",
              "    }\n",
              "\n",
              "    .dataframe tbody tr th {\n",
              "        vertical-align: top;\n",
              "    }\n",
              "\n",
              "    .dataframe thead th {\n",
              "        text-align: right;\n",
              "    }\n",
              "</style>\n",
              "<table border=\"1\" class=\"dataframe\">\n",
              "  <thead>\n",
              "    <tr style=\"text-align: right;\">\n",
              "      <th></th>\n",
              "      <th>0</th>\n",
              "    </tr>\n",
              "  </thead>\n",
              "  <tbody>\n",
              "    <tr>\n",
              "      <th>0</th>\n",
              "      <td>0.000000</td>\n",
              "    </tr>\n",
              "    <tr>\n",
              "      <th>1</th>\n",
              "      <td>0.000000</td>\n",
              "    </tr>\n",
              "    <tr>\n",
              "      <th>2</th>\n",
              "      <td>0.000000</td>\n",
              "    </tr>\n",
              "    <tr>\n",
              "      <th>3</th>\n",
              "      <td>0.000000</td>\n",
              "    </tr>\n",
              "    <tr>\n",
              "      <th>4</th>\n",
              "      <td>150.000000</td>\n",
              "    </tr>\n",
              "    <tr>\n",
              "      <th>5</th>\n",
              "      <td>50.105032</td>\n",
              "    </tr>\n",
              "    <tr>\n",
              "      <th>6</th>\n",
              "      <td>0.140116</td>\n",
              "    </tr>\n",
              "    <tr>\n",
              "      <th>7</th>\n",
              "      <td>200.140214</td>\n",
              "    </tr>\n",
              "  </tbody>\n",
              "</table>\n",
              "</div>\n",
              "      <button class=\"colab-df-convert\" onclick=\"convertToInteractive('df-2341d76c-e646-449f-8c73-52f0af397353')\"\n",
              "              title=\"Convert this dataframe to an interactive table.\"\n",
              "              style=\"display:none;\">\n",
              "        \n",
              "  <svg xmlns=\"http://www.w3.org/2000/svg\" height=\"24px\"viewBox=\"0 0 24 24\"\n",
              "       width=\"24px\">\n",
              "    <path d=\"M0 0h24v24H0V0z\" fill=\"none\"/>\n",
              "    <path d=\"M18.56 5.44l.94 2.06.94-2.06 2.06-.94-2.06-.94-.94-2.06-.94 2.06-2.06.94zm-11 1L8.5 8.5l.94-2.06 2.06-.94-2.06-.94L8.5 2.5l-.94 2.06-2.06.94zm10 10l.94 2.06.94-2.06 2.06-.94-2.06-.94-.94-2.06-.94 2.06-2.06.94z\"/><path d=\"M17.41 7.96l-1.37-1.37c-.4-.4-.92-.59-1.43-.59-.52 0-1.04.2-1.43.59L10.3 9.45l-7.72 7.72c-.78.78-.78 2.05 0 2.83L4 21.41c.39.39.9.59 1.41.59.51 0 1.02-.2 1.41-.59l7.78-7.78 2.81-2.81c.8-.78.8-2.07 0-2.86zM5.41 20L4 18.59l7.72-7.72 1.47 1.35L5.41 20z\"/>\n",
              "  </svg>\n",
              "      </button>\n",
              "      \n",
              "  <style>\n",
              "    .colab-df-container {\n",
              "      display:flex;\n",
              "      flex-wrap:wrap;\n",
              "      gap: 12px;\n",
              "    }\n",
              "\n",
              "    .colab-df-convert {\n",
              "      background-color: #E8F0FE;\n",
              "      border: none;\n",
              "      border-radius: 50%;\n",
              "      cursor: pointer;\n",
              "      display: none;\n",
              "      fill: #1967D2;\n",
              "      height: 32px;\n",
              "      padding: 0 0 0 0;\n",
              "      width: 32px;\n",
              "    }\n",
              "\n",
              "    .colab-df-convert:hover {\n",
              "      background-color: #E2EBFA;\n",
              "      box-shadow: 0px 1px 2px rgba(60, 64, 67, 0.3), 0px 1px 3px 1px rgba(60, 64, 67, 0.15);\n",
              "      fill: #174EA6;\n",
              "    }\n",
              "\n",
              "    [theme=dark] .colab-df-convert {\n",
              "      background-color: #3B4455;\n",
              "      fill: #D2E3FC;\n",
              "    }\n",
              "\n",
              "    [theme=dark] .colab-df-convert:hover {\n",
              "      background-color: #434B5C;\n",
              "      box-shadow: 0px 1px 3px 1px rgba(0, 0, 0, 0.15);\n",
              "      filter: drop-shadow(0px 1px 2px rgba(0, 0, 0, 0.3));\n",
              "      fill: #FFFFFF;\n",
              "    }\n",
              "  </style>\n",
              "\n",
              "      <script>\n",
              "        const buttonEl =\n",
              "          document.querySelector('#df-2341d76c-e646-449f-8c73-52f0af397353 button.colab-df-convert');\n",
              "        buttonEl.style.display =\n",
              "          google.colab.kernel.accessAllowed ? 'block' : 'none';\n",
              "\n",
              "        async function convertToInteractive(key) {\n",
              "          const element = document.querySelector('#df-2341d76c-e646-449f-8c73-52f0af397353');\n",
              "          const dataTable =\n",
              "            await google.colab.kernel.invokeFunction('convertToInteractive',\n",
              "                                                     [key], {});\n",
              "          if (!dataTable) return;\n",
              "\n",
              "          const docLinkHtml = 'Like what you see? Visit the ' +\n",
              "            '<a target=\"_blank\" href=https://colab.research.google.com/notebooks/data_table.ipynb>data table notebook</a>'\n",
              "            + ' to learn more about interactive tables.';\n",
              "          element.innerHTML = '';\n",
              "          dataTable['output_type'] = 'display_data';\n",
              "          await google.colab.output.renderOutput(dataTable, element);\n",
              "          const docLink = document.createElement('div');\n",
              "          docLink.innerHTML = docLinkHtml;\n",
              "          element.appendChild(docLink);\n",
              "        }\n",
              "      </script>\n",
              "    </div>\n",
              "  </div>\n",
              "  "
            ]
          },
          "metadata": {},
          "execution_count": 56
        }
      ]
    },
    {
      "cell_type": "markdown",
      "source": [
        "Punto 5\n"
      ],
      "metadata": {
        "id": "qZC1OSpR-DA7"
      }
    },
    {
      "cell_type": "code",
      "source": [
        "C_5=np.array([0,0,0,5,8,10])\n",
        "A_5=np.array([[0,0,0,1,0,0],\n",
        "            [0,1,0,0,0,0],\n",
        "            [0,0,1,0,0,0],\n",
        "            [0,0,0,0,1,0],\n",
        "            [0,0,0,0,0,1]])\n",
        "B_5=np.array([2000,300,250,2000,2000])\n",
        "\n",
        "A_6=np.array([[1,1,1,0,0,0],[0,0,0,1,1,1]])\n",
        "B_6=np.array([1000,10000])\n",
        "res2=linprog(-C_5,A_ub=-A_5,b_ub=-B_5,A_eq=A_6,b_eq=B_6,method=\"simplex\")\n",
        "print(round(pd.DataFrame(res2.x),2))\n",
        "res2"
      ],
      "metadata": {
        "id": "uAnojVvtbluC",
        "outputId": "e753aa30-6b63-4fc5-c40b-bc8a3fef54c8",
        "colab": {
          "base_uri": "https://localhost:8080/"
        }
      },
      "execution_count": null,
      "outputs": [
        {
          "output_type": "stream",
          "name": "stdout",
          "text": [
            "        0\n",
            "0   450.0\n",
            "1   300.0\n",
            "2   250.0\n",
            "3  2000.0\n",
            "4  2000.0\n",
            "5  6000.0\n"
          ]
        },
        {
          "output_type": "stream",
          "name": "stderr",
          "text": [
            "<ipython-input-5-57083756e196>:11: DeprecationWarning: `method='simplex'` is deprecated and will be removed in SciPy 1.11.0. Please use one of the HiGHS solvers (e.g. `method='highs'`) in new code.\n",
            "  res2=linprog(-C_5,A_ub=-A_5,b_ub=-B_5,A_eq=A_6,b_eq=B_6,method=\"simplex\")\n"
          ]
        },
        {
          "output_type": "execute_result",
          "data": {
            "text/plain": [
              " message: Optimization terminated successfully.\n",
              " success: True\n",
              "  status: 0\n",
              "     fun: -86000.0\n",
              "       x: [ 4.500e+02  3.000e+02  2.500e+02  2.000e+03  2.000e+03\n",
              "            6.000e+03]\n",
              "     nit: 3"
            ]
          },
          "metadata": {},
          "execution_count": 5
        }
      ]
    },
    {
      "cell_type": "markdown",
      "source": [
        "Punto 6"
      ],
      "metadata": {
        "id": "Tnflyuaa8c6a"
      }
    },
    {
      "cell_type": "code",
      "source": [
        "C_6 = np.array([ [4, 6, 9], [5, 4, 7], [6, 3, 4], [8, 5, 3],[10, 8, 4]]) #Coeficientes función costos\n",
        "D_6 = np.array([80, 270, 250, 160, 180]) #Coeficientes demanda\n",
        "F_6 = np.array ( [1000, 1000, 1000]) #Coeficientes Fj\n",
        "M_6 = np.array([500, 500, 500]) #Coeficientes Mj\n",
        "\n",
        "X = cp.Variable((5,3), nonneg=True)\n",
        "Y = cp.Variable(3, boolean=True)\n",
        "\n",
        "objective = cp.Minimize(cp.sum(cp.multiply(F_6, Y)) + cp.sum(cp.multiply(C_6, X)))\n",
        "\n",
        "constraints = []\n",
        "for i in range(5) :\n",
        "  constraints.append(cp.sum(X[i, :]) >= D_6[i])\n",
        "\n",
        "for j in range(3) :\n",
        "  constraints.append(cp.sum(X[:, j]) <= M_6[j] * Y[j])\n",
        "\n",
        "Prob = cp.Problem(objective, constraints)\n",
        "Result = Prob.solve()\n",
        "Result"
      ],
      "metadata": {
        "id": "Tpm7973C8D-5",
        "outputId": "e9358de1-31ca-447e-97b2-9c3612f7a1e9",
        "colab": {
          "base_uri": "https://localhost:8080/"
        }
      },
      "execution_count": null,
      "outputs": [
        {
          "output_type": "execute_result",
          "data": {
            "text/plain": [
              "5610.0"
            ]
          },
          "metadata": {},
          "execution_count": 8
        }
      ]
    }
  ]
}